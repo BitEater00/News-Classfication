{
 "cells": [
  {
   "cell_type": "markdown",
   "metadata": {
    "_cell_guid": "36bd789b-0754-4fb6-98d1-3156864534aa",
    "_uuid": "2b793516-8fde-4e68-b7e3-3623645ba77d"
   },
   "source": [
    "# Importing all the required modules"
   ]
  },
  {
   "cell_type": "code",
   "execution_count": 1,
   "metadata": {
    "_cell_guid": "e3dc8c28-2e2f-44b0-9cff-63f238670994",
    "_kg_hide-output": true,
    "_uuid": "633372d1-166e-4f38-9109-6a5d218e3a2e"
   },
   "outputs": [
    {
     "name": "stderr",
     "output_type": "stream",
     "text": [
      "\n",
      "Attaching package: 'dplyr'\n",
      "\n",
      "\n",
      "The following objects are masked from 'package:stats':\n",
      "\n",
      "    filter, lag\n",
      "\n",
      "\n",
      "The following objects are masked from 'package:base':\n",
      "\n",
      "    intersect, setdiff, setequal, union\n",
      "\n",
      "\n",
      "Loading required package: NLP\n",
      "\n",
      "\n",
      "Attaching package: 'NLP'\n",
      "\n",
      "\n",
      "The following object is masked from 'package:ggplot2':\n",
      "\n",
      "    annotate\n",
      "\n",
      "\n",
      "Loading required package: koRpus.lang.en\n",
      "\n",
      "Loading required package: koRpus\n",
      "\n",
      "Loading required package: sylly\n",
      "\n",
      "For information on available language packages for 'koRpus', run\n",
      "\n",
      "  available.koRpus.lang()\n",
      "\n",
      "and see ?install.koRpus.lang()\n",
      "\n",
      "\n",
      "\n",
      "Attaching package: 'koRpus'\n",
      "\n",
      "\n",
      "The following object is masked from 'package:tm':\n",
      "\n",
      "    readTagged\n",
      "\n",
      "\n",
      "The following object is masked from 'package:readr':\n",
      "\n",
      "    tokenize\n",
      "\n",
      "\n",
      "Type 'citation(\"pROC\")' for a citation.\n",
      "\n",
      "\n",
      "Attaching package: 'pROC'\n",
      "\n",
      "\n",
      "The following objects are masked from 'package:stats':\n",
      "\n",
      "    cov, smooth, var\n",
      "\n",
      "\n",
      "randomForest 4.6-14\n",
      "\n",
      "Type rfNews() to see new features/changes/bug fixes.\n",
      "\n",
      "\n",
      "Attaching package: 'randomForest'\n",
      "\n",
      "\n",
      "The following object is masked from 'package:ggplot2':\n",
      "\n",
      "    margin\n",
      "\n",
      "\n",
      "The following object is masked from 'package:dplyr':\n",
      "\n",
      "    combine\n",
      "\n",
      "\n",
      "naivebayes 0.9.7 loaded\n",
      "\n",
      "Loading required package: lattice\n",
      "\n",
      "\n",
      "Attaching package: 'igraph'\n",
      "\n",
      "\n",
      "The following object is masked from 'package:tidyr':\n",
      "\n",
      "    crossing\n",
      "\n",
      "\n",
      "The following objects are masked from 'package:dplyr':\n",
      "\n",
      "    as_data_frame, groups, union\n",
      "\n",
      "\n",
      "The following objects are masked from 'package:stats':\n",
      "\n",
      "    decompose, spectrum\n",
      "\n",
      "\n",
      "The following object is masked from 'package:base':\n",
      "\n",
      "    union\n",
      "\n",
      "\n"
     ]
    }
   ],
   "source": [
    "library(readr)\n",
    "library(dplyr)\n",
    "library(stringr)\n",
    "library(ggplot2)\n",
    "library(tidyr)\n",
    "library(tm)\n",
    "library(textstem) \n",
    "library(tidytext)\n",
    "library(wordcloud2)\n",
    "library(pROC)\n",
    "library(ROCR)\n",
    "library(randomForest)  \n",
    "library(naivebayes)\n",
    "library(caret)\n",
    "library(janeaustenr)\n",
    "library(igraph)\n",
    "library(ggraph)"
   ]
  },
  {
   "cell_type": "markdown",
   "metadata": {
    "_cell_guid": "d33baf89-696d-425e-a859-c4fcc4dbcccd",
    "_uuid": "1645e058-c445-49df-b222-d1268f828970"
   },
   "source": [
    "# Importing required datasets"
   ]
  },
  {
   "cell_type": "code",
   "execution_count": 2,
   "metadata": {
    "_cell_guid": "a63758ff-c6c3-49bc-8770-b1f99c9e50bf",
    "_uuid": "87234923-3251-47c8-8ab3-de507bf4c6b8"
   },
   "outputs": [
    {
     "name": "stderr",
     "output_type": "stream",
     "text": [
      "\n",
      "\u001b[36m--\u001b[39m \u001b[1m\u001b[1mColumn specification\u001b[1m\u001b[22m \u001b[36m------------------------------------------------------------------------------------------------------------------------------------------------\u001b[39m\n",
      "cols(\n",
      "  title = \u001b[31mcol_character()\u001b[39m,\n",
      "  text = \u001b[31mcol_character()\u001b[39m,\n",
      "  subject = \u001b[31mcol_character()\u001b[39m,\n",
      "  date = \u001b[31mcol_character()\u001b[39m\n",
      ")\n",
      "\n",
      "\n",
      "\n",
      "\u001b[36m--\u001b[39m \u001b[1m\u001b[1mColumn specification\u001b[1m\u001b[22m \u001b[36m------------------------------------------------------------------------------------------------------------------------------------------------\u001b[39m\n",
      "cols(\n",
      "  title = \u001b[31mcol_character()\u001b[39m,\n",
      "  text = \u001b[31mcol_character()\u001b[39m,\n",
      "  subject = \u001b[31mcol_character()\u001b[39m,\n",
      "  date = \u001b[31mcol_character()\u001b[39m\n",
      ")\n",
      "\n",
      "\n"
     ]
    }
   ],
   "source": [
    "fake <- read_csv('Fake.csv')\n",
    "true <- read_csv('True.csv')"
   ]
  },
  {
   "cell_type": "code",
   "execution_count": 3,
   "metadata": {},
   "outputs": [
    {
     "data": {
      "text/html": [
       "<table>\n",
       "<caption>A tibble: 1 × 4</caption>\n",
       "<thead>\n",
       "\t<tr><th scope=col>title</th><th scope=col>text</th><th scope=col>subject</th><th scope=col>date</th></tr>\n",
       "\t<tr><th scope=col>&lt;chr&gt;</th><th scope=col>&lt;chr&gt;</th><th scope=col>&lt;chr&gt;</th><th scope=col>&lt;chr&gt;</th></tr>\n",
       "</thead>\n",
       "<tbody>\n",
       "\t<tr><td>Donald Trump Sends Out Embarrassing New Year’s Eve Message; This is Disturbing</td><td>Donald Trump just couldn t wish all Americans a Happy New Year and leave it at that. Instead, he had to give a shout out to his enemies, haters and  the very dishonest fake news media.  The former reality show star had just one job to do and he couldn t do it. As our Country rapidly grows stronger and smarter, I want to wish all of my friends, supporters, enemies, haters, and even the very dishonest Fake News Media, a Happy and Healthy New Year,  President Angry Pants tweeted.  2018 will be a great year for America! As our Country rapidly grows stronger and smarter, I want to wish all of my friends, supporters, enemies, haters, and even the very dishonest Fake News Media, a Happy and Healthy New Year. 2018 will be a great year for America!  Donald J. Trump (@realDonaldTrump) December 31, 2017Trump s tweet went down about as welll as you d expect.What kind of president sends a New Year s greeting like this despicable, petty, infantile gibberish? Only Trump! His lack of decency won t even allow him to rise above the gutter long enough to wish the American citizens a happy new year!  Bishop Talbert Swan (@TalbertSwan) December 31, 2017no one likes you  Calvin (@calvinstowell) December 31, 2017Your impeachment would make 2018 a great year for America, but I ll also accept regaining control of Congress.  Miranda Yaver (@mirandayaver) December 31, 2017Do you hear yourself talk? When you have to include that many people that hate you you have to wonder? Why do the they all hate me?  Alan Sandoval (@AlanSandoval13) December 31, 2017Who uses the word Haters in a New Years wish??  Marlene (@marlene399) December 31, 2017You can t just say happy new year?  Koren pollitt (@Korencarpenter) December 31, 2017Here s Trump s New Year s Eve tweet from 2016.Happy New Year to all, including to my many enemies and those who have fought me and lost so badly they just don t know what to do. Love!  Donald J. Trump (@realDonaldTrump) December 31, 2016This is nothing new for Trump. He s been doing this for years.Trump has directed messages to his  enemies  and  haters  for New Year s, Easter, Thanksgiving, and the anniversary of 9/11. pic.twitter.com/4FPAe2KypA  Daniel Dale (@ddale8) December 31, 2017Trump s holiday tweets are clearly not presidential.How long did he work at Hallmark before becoming President?  Steven Goodine (@SGoodine) December 31, 2017He s always been like this . . . the only difference is that in the last few years, his filter has been breaking down.  Roy Schulze (@thbthttt) December 31, 2017Who, apart from a teenager uses the term haters?  Wendy (@WendyWhistles) December 31, 2017he s a fucking 5 year old  Who Knows (@rainyday80) December 31, 2017So, to all the people who voted for this a hole thinking he would change once he got into power, you were wrong! 70-year-old men don t change and now he s a year older.Photo by Andrew Burton/Getty Images.</td><td>News</td><td>December 31, 2017</td></tr>\n",
       "</tbody>\n",
       "</table>\n"
      ],
      "text/latex": [
       "A tibble: 1 × 4\n",
       "\\begin{tabular}{llll}\n",
       " title & text & subject & date\\\\\n",
       " <chr> & <chr> & <chr> & <chr>\\\\\n",
       "\\hline\n",
       "\t Donald Trump Sends Out Embarrassing New Year’s Eve Message; This is Disturbing & Donald Trump just couldn t wish all Americans a Happy New Year and leave it at that. Instead, he had to give a shout out to his enemies, haters and  the very dishonest fake news media.  The former reality show star had just one job to do and he couldn t do it. As our Country rapidly grows stronger and smarter, I want to wish all of my friends, supporters, enemies, haters, and even the very dishonest Fake News Media, a Happy and Healthy New Year,  President Angry Pants tweeted.  2018 will be a great year for America! As our Country rapidly grows stronger and smarter, I want to wish all of my friends, supporters, enemies, haters, and even the very dishonest Fake News Media, a Happy and Healthy New Year. 2018 will be a great year for America!  Donald J. Trump (@realDonaldTrump) December 31, 2017Trump s tweet went down about as welll as you d expect.What kind of president sends a New Year s greeting like this despicable, petty, infantile gibberish? Only Trump! His lack of decency won t even allow him to rise above the gutter long enough to wish the American citizens a happy new year!  Bishop Talbert Swan (@TalbertSwan) December 31, 2017no one likes you  Calvin (@calvinstowell) December 31, 2017Your impeachment would make 2018 a great year for America, but I ll also accept regaining control of Congress.  Miranda Yaver (@mirandayaver) December 31, 2017Do you hear yourself talk? When you have to include that many people that hate you you have to wonder? Why do the they all hate me?  Alan Sandoval (@AlanSandoval13) December 31, 2017Who uses the word Haters in a New Years wish??  Marlene (@marlene399) December 31, 2017You can t just say happy new year?  Koren pollitt (@Korencarpenter) December 31, 2017Here s Trump s New Year s Eve tweet from 2016.Happy New Year to all, including to my many enemies and those who have fought me and lost so badly they just don t know what to do. Love!  Donald J. Trump (@realDonaldTrump) December 31, 2016This is nothing new for Trump. He s been doing this for years.Trump has directed messages to his  enemies  and  haters  for New Year s, Easter, Thanksgiving, and the anniversary of 9/11. pic.twitter.com/4FPAe2KypA  Daniel Dale (@ddale8) December 31, 2017Trump s holiday tweets are clearly not presidential.How long did he work at Hallmark before becoming President?  Steven Goodine (@SGoodine) December 31, 2017He s always been like this . . . the only difference is that in the last few years, his filter has been breaking down.  Roy Schulze (@thbthttt) December 31, 2017Who, apart from a teenager uses the term haters?  Wendy (@WendyWhistles) December 31, 2017he s a fucking 5 year old  Who Knows (@rainyday80) December 31, 2017So, to all the people who voted for this a hole thinking he would change once he got into power, you were wrong! 70-year-old men don t change and now he s a year older.Photo by Andrew Burton/Getty Images. & News & December 31, 2017\\\\\n",
       "\\end{tabular}\n"
      ],
      "text/markdown": [
       "\n",
       "A tibble: 1 × 4\n",
       "\n",
       "| title &lt;chr&gt; | text &lt;chr&gt; | subject &lt;chr&gt; | date &lt;chr&gt; |\n",
       "|---|---|---|---|\n",
       "| Donald Trump Sends Out Embarrassing New Year’s Eve Message; This is Disturbing | Donald Trump just couldn t wish all Americans a Happy New Year and leave it at that. Instead, he had to give a shout out to his enemies, haters and  the very dishonest fake news media.  The former reality show star had just one job to do and he couldn t do it. As our Country rapidly grows stronger and smarter, I want to wish all of my friends, supporters, enemies, haters, and even the very dishonest Fake News Media, a Happy and Healthy New Year,  President Angry Pants tweeted.  2018 will be a great year for America! As our Country rapidly grows stronger and smarter, I want to wish all of my friends, supporters, enemies, haters, and even the very dishonest Fake News Media, a Happy and Healthy New Year. 2018 will be a great year for America!  Donald J. Trump (@realDonaldTrump) December 31, 2017Trump s tweet went down about as welll as you d expect.What kind of president sends a New Year s greeting like this despicable, petty, infantile gibberish? Only Trump! His lack of decency won t even allow him to rise above the gutter long enough to wish the American citizens a happy new year!  Bishop Talbert Swan (@TalbertSwan) December 31, 2017no one likes you  Calvin (@calvinstowell) December 31, 2017Your impeachment would make 2018 a great year for America, but I ll also accept regaining control of Congress.  Miranda Yaver (@mirandayaver) December 31, 2017Do you hear yourself talk? When you have to include that many people that hate you you have to wonder? Why do the they all hate me?  Alan Sandoval (@AlanSandoval13) December 31, 2017Who uses the word Haters in a New Years wish??  Marlene (@marlene399) December 31, 2017You can t just say happy new year?  Koren pollitt (@Korencarpenter) December 31, 2017Here s Trump s New Year s Eve tweet from 2016.Happy New Year to all, including to my many enemies and those who have fought me and lost so badly they just don t know what to do. Love!  Donald J. Trump (@realDonaldTrump) December 31, 2016This is nothing new for Trump. He s been doing this for years.Trump has directed messages to his  enemies  and  haters  for New Year s, Easter, Thanksgiving, and the anniversary of 9/11. pic.twitter.com/4FPAe2KypA  Daniel Dale (@ddale8) December 31, 2017Trump s holiday tweets are clearly not presidential.How long did he work at Hallmark before becoming President?  Steven Goodine (@SGoodine) December 31, 2017He s always been like this . . . the only difference is that in the last few years, his filter has been breaking down.  Roy Schulze (@thbthttt) December 31, 2017Who, apart from a teenager uses the term haters?  Wendy (@WendyWhistles) December 31, 2017he s a fucking 5 year old  Who Knows (@rainyday80) December 31, 2017So, to all the people who voted for this a hole thinking he would change once he got into power, you were wrong! 70-year-old men don t change and now he s a year older.Photo by Andrew Burton/Getty Images. | News | December 31, 2017 |\n",
       "\n"
      ],
      "text/plain": [
       "  title                                                                         \n",
       "1 Donald Trump Sends Out Embarrassing New Year’s Eve Message; This is Disturbing\n",
       "  text                                                                                                                                                                                                                                                                                                                                                                                                                                                                                                                                                                                                                                                                                                                                                                                                                                                                                                                                                                                                                                                                                                                                                                                                                                                                                                                                                                                                                                                                                                                                                                                                                                                                                                                                                                                                                                                                                                                                                                                                                                                                                                                                                                                                                                                                                                                                                                                                                                                                                                                                                                                                                                                                                                                                                                                                                                                                                                                                                                                                         \n",
       "1 Donald Trump just couldn t wish all Americans a Happy New Year and leave it at that. Instead, he had to give a shout out to his enemies, haters and  the very dishonest fake news media.  The former reality show star had just one job to do and he couldn t do it. As our Country rapidly grows stronger and smarter, I want to wish all of my friends, supporters, enemies, haters, and even the very dishonest Fake News Media, a Happy and Healthy New Year,  President Angry Pants tweeted.  2018 will be a great year for America! As our Country rapidly grows stronger and smarter, I want to wish all of my friends, supporters, enemies, haters, and even the very dishonest Fake News Media, a Happy and Healthy New Year. 2018 will be a great year for America!  Donald J. Trump (@realDonaldTrump) December 31, 2017Trump s tweet went down about as welll as you d expect.What kind of president sends a New Year s greeting like this despicable, petty, infantile gibberish? Only Trump! His lack of decency won t even allow him to rise above the gutter long enough to wish the American citizens a happy new year!  Bishop Talbert Swan (@TalbertSwan) December 31, 2017no one likes you  Calvin (@calvinstowell) December 31, 2017Your impeachment would make 2018 a great year for America, but I ll also accept regaining control of Congress.  Miranda Yaver (@mirandayaver) December 31, 2017Do you hear yourself talk? When you have to include that many people that hate you you have to wonder? Why do the they all hate me?  Alan Sandoval (@AlanSandoval13) December 31, 2017Who uses the word Haters in a New Years wish??  Marlene (@marlene399) December 31, 2017You can t just say happy new year?  Koren pollitt (@Korencarpenter) December 31, 2017Here s Trump s New Year s Eve tweet from 2016.Happy New Year to all, including to my many enemies and those who have fought me and lost so badly they just don t know what to do. Love!  Donald J. Trump (@realDonaldTrump) December 31, 2016This is nothing new for Trump. He s been doing this for years.Trump has directed messages to his  enemies  and  haters  for New Year s, Easter, Thanksgiving, and the anniversary of 9/11. pic.twitter.com/4FPAe2KypA  Daniel Dale (@ddale8) December 31, 2017Trump s holiday tweets are clearly not presidential.How long did he work at Hallmark before becoming President?  Steven Goodine (@SGoodine) December 31, 2017He s always been like this . . . the only difference is that in the last few years, his filter has been breaking down.  Roy Schulze (@thbthttt) December 31, 2017Who, apart from a teenager uses the term haters?  Wendy (@WendyWhistles) December 31, 2017he s a fucking 5 year old  Who Knows (@rainyday80) December 31, 2017So, to all the people who voted for this a hole thinking he would change once he got into power, you were wrong! 70-year-old men don t change and now he s a year older.Photo by Andrew Burton/Getty Images.\n",
       "  subject date             \n",
       "1 News    December 31, 2017"
      ]
     },
     "metadata": {},
     "output_type": "display_data"
    },
    {
     "data": {
      "text/html": [
       "<table>\n",
       "<caption>A tibble: 1 × 4</caption>\n",
       "<thead>\n",
       "\t<tr><th scope=col>title</th><th scope=col>text</th><th scope=col>subject</th><th scope=col>date</th></tr>\n",
       "\t<tr><th scope=col>&lt;chr&gt;</th><th scope=col>&lt;chr&gt;</th><th scope=col>&lt;chr&gt;</th><th scope=col>&lt;chr&gt;</th></tr>\n",
       "</thead>\n",
       "<tbody>\n",
       "\t<tr><td>As U.S. budget fight looms, Republicans flip their fiscal script</td><td>WASHINGTON (Reuters) - The head of a conservative Republican faction in the U.S. Congress, who voted this month for a huge expansion of the national debt to pay for tax cuts, called himself a “fiscal conservative” on Sunday and urged budget restraint in 2018. In keeping with a sharp pivot under way among Republicans, U.S. Representative Mark Meadows, speaking on CBS’ “Face the Nation,” drew a hard line on federal spending, which lawmakers are bracing to do battle over in January. When they return from the holidays on Wednesday, lawmakers will begin trying to pass a federal budget in a fight likely to be linked to other issues, such as immigration policy, even as the November congressional election campaigns approach in which Republicans will seek to keep control of Congress. President Donald Trump and his Republicans want a big budget increase in military spending, while Democrats also want proportional increases for non-defense “discretionary” spending on programs that support education, scientific research, infrastructure, public health and environmental protection. “The (Trump) administration has already been willing to say: ‘We’re going to increase non-defense discretionary spending ... by about 7 percent,’” Meadows, chairman of the small but influential House Freedom Caucus, said on the program. “Now, Democrats are saying that’s not enough, we need to give the government a pay raise of 10 to 11 percent. For a fiscal conservative, I don’t see where the rationale is. ... Eventually you run out of other people’s money,” he said. Meadows was among Republicans who voted in late December for their party’s debt-financed tax overhaul, which is expected to balloon the federal budget deficit and add about $1.5 trillion over 10 years to the $20 trillion national debt. “It’s interesting to hear Mark talk about fiscal responsibility,” Democratic U.S. Representative Joseph Crowley said on CBS. Crowley said the Republican tax bill would require the  United States to borrow $1.5 trillion, to be paid off by future generations, to finance tax cuts for corporations and the rich. “This is one of the least ... fiscally responsible bills we’ve ever seen passed in the history of the House of Representatives. I think we’re going to be paying for this for many, many years to come,” Crowley said. Republicans insist the tax package, the biggest U.S. tax overhaul in more than 30 years,  will boost the economy and job growth. House Speaker Paul Ryan, who also supported the tax bill, recently went further than Meadows, making clear in a radio interview that welfare or “entitlement reform,” as the party often calls it, would be a top Republican priority in 2018. In Republican parlance, “entitlement” programs mean food stamps, housing assistance, Medicare and Medicaid health insurance for the elderly, poor and disabled, as well as other programs created by Washington to assist the needy. Democrats seized on Ryan’s early December remarks, saying they showed Republicans would try to pay for their tax overhaul by seeking spending cuts for social programs. But the goals of House Republicans may have to take a back seat to the Senate, where the votes of some Democrats will be needed to approve a budget and prevent a government shutdown. Democrats will use their leverage in the Senate, which Republicans narrowly control, to defend both discretionary non-defense programs and social spending, while tackling the issue of the “Dreamers,” people brought illegally to the country as children. Trump in September put a March 2018 expiration date on the Deferred Action for Childhood Arrivals, or DACA, program, which protects the young immigrants from deportation and provides them with work permits. The president has said in recent Twitter messages he wants funding for his proposed Mexican border wall and other immigration law changes in exchange for agreeing to help the Dreamers. Representative Debbie Dingell told CBS she did not favor linking that issue to other policy objectives, such as wall funding. “We need to do DACA clean,” she said.  On Wednesday, Trump aides will meet with congressional leaders to discuss those issues. That will be followed by a weekend of strategy sessions for Trump and Republican leaders on Jan. 6 and 7, the White House said. Trump was also scheduled to meet on Sunday with Florida Republican Governor Rick Scott, who wants more emergency aid. The House has passed an $81 billion aid package after hurricanes in Florida, Texas and Puerto Rico, and wildfires in California. The package far exceeded the $44 billion requested by the Trump administration. The Senate has not yet voted on the aid.</td><td>politicsNews</td><td>December 31, 2017</td></tr>\n",
       "</tbody>\n",
       "</table>\n"
      ],
      "text/latex": [
       "A tibble: 1 × 4\n",
       "\\begin{tabular}{llll}\n",
       " title & text & subject & date\\\\\n",
       " <chr> & <chr> & <chr> & <chr>\\\\\n",
       "\\hline\n",
       "\t As U.S. budget fight looms, Republicans flip their fiscal script & WASHINGTON (Reuters) - The head of a conservative Republican faction in the U.S. Congress, who voted this month for a huge expansion of the national debt to pay for tax cuts, called himself a “fiscal conservative” on Sunday and urged budget restraint in 2018. In keeping with a sharp pivot under way among Republicans, U.S. Representative Mark Meadows, speaking on CBS’ “Face the Nation,” drew a hard line on federal spending, which lawmakers are bracing to do battle over in January. When they return from the holidays on Wednesday, lawmakers will begin trying to pass a federal budget in a fight likely to be linked to other issues, such as immigration policy, even as the November congressional election campaigns approach in which Republicans will seek to keep control of Congress. President Donald Trump and his Republicans want a big budget increase in military spending, while Democrats also want proportional increases for non-defense “discretionary” spending on programs that support education, scientific research, infrastructure, public health and environmental protection. “The (Trump) administration has already been willing to say: ‘We’re going to increase non-defense discretionary spending ... by about 7 percent,’” Meadows, chairman of the small but influential House Freedom Caucus, said on the program. “Now, Democrats are saying that’s not enough, we need to give the government a pay raise of 10 to 11 percent. For a fiscal conservative, I don’t see where the rationale is. ... Eventually you run out of other people’s money,” he said. Meadows was among Republicans who voted in late December for their party’s debt-financed tax overhaul, which is expected to balloon the federal budget deficit and add about \\$1.5 trillion over 10 years to the \\$20 trillion national debt. “It’s interesting to hear Mark talk about fiscal responsibility,” Democratic U.S. Representative Joseph Crowley said on CBS. Crowley said the Republican tax bill would require the  United States to borrow \\$1.5 trillion, to be paid off by future generations, to finance tax cuts for corporations and the rich. “This is one of the least ... fiscally responsible bills we’ve ever seen passed in the history of the House of Representatives. I think we’re going to be paying for this for many, many years to come,” Crowley said. Republicans insist the tax package, the biggest U.S. tax overhaul in more than 30 years,  will boost the economy and job growth. House Speaker Paul Ryan, who also supported the tax bill, recently went further than Meadows, making clear in a radio interview that welfare or “entitlement reform,” as the party often calls it, would be a top Republican priority in 2018. In Republican parlance, “entitlement” programs mean food stamps, housing assistance, Medicare and Medicaid health insurance for the elderly, poor and disabled, as well as other programs created by Washington to assist the needy. Democrats seized on Ryan’s early December remarks, saying they showed Republicans would try to pay for their tax overhaul by seeking spending cuts for social programs. But the goals of House Republicans may have to take a back seat to the Senate, where the votes of some Democrats will be needed to approve a budget and prevent a government shutdown. Democrats will use their leverage in the Senate, which Republicans narrowly control, to defend both discretionary non-defense programs and social spending, while tackling the issue of the “Dreamers,” people brought illegally to the country as children. Trump in September put a March 2018 expiration date on the Deferred Action for Childhood Arrivals, or DACA, program, which protects the young immigrants from deportation and provides them with work permits. The president has said in recent Twitter messages he wants funding for his proposed Mexican border wall and other immigration law changes in exchange for agreeing to help the Dreamers. Representative Debbie Dingell told CBS she did not favor linking that issue to other policy objectives, such as wall funding. “We need to do DACA clean,” she said.  On Wednesday, Trump aides will meet with congressional leaders to discuss those issues. That will be followed by a weekend of strategy sessions for Trump and Republican leaders on Jan. 6 and 7, the White House said. Trump was also scheduled to meet on Sunday with Florida Republican Governor Rick Scott, who wants more emergency aid. The House has passed an \\$81 billion aid package after hurricanes in Florida, Texas and Puerto Rico, and wildfires in California. The package far exceeded the \\$44 billion requested by the Trump administration. The Senate has not yet voted on the aid. & politicsNews & December 31, 2017\\\\\n",
       "\\end{tabular}\n"
      ],
      "text/markdown": [
       "\n",
       "A tibble: 1 × 4\n",
       "\n",
       "| title &lt;chr&gt; | text &lt;chr&gt; | subject &lt;chr&gt; | date &lt;chr&gt; |\n",
       "|---|---|---|---|\n",
       "| As U.S. budget fight looms, Republicans flip their fiscal script | WASHINGTON (Reuters) - The head of a conservative Republican faction in the U.S. Congress, who voted this month for a huge expansion of the national debt to pay for tax cuts, called himself a “fiscal conservative” on Sunday and urged budget restraint in 2018. In keeping with a sharp pivot under way among Republicans, U.S. Representative Mark Meadows, speaking on CBS’ “Face the Nation,” drew a hard line on federal spending, which lawmakers are bracing to do battle over in January. When they return from the holidays on Wednesday, lawmakers will begin trying to pass a federal budget in a fight likely to be linked to other issues, such as immigration policy, even as the November congressional election campaigns approach in which Republicans will seek to keep control of Congress. President Donald Trump and his Republicans want a big budget increase in military spending, while Democrats also want proportional increases for non-defense “discretionary” spending on programs that support education, scientific research, infrastructure, public health and environmental protection. “The (Trump) administration has already been willing to say: ‘We’re going to increase non-defense discretionary spending ... by about 7 percent,’” Meadows, chairman of the small but influential House Freedom Caucus, said on the program. “Now, Democrats are saying that’s not enough, we need to give the government a pay raise of 10 to 11 percent. For a fiscal conservative, I don’t see where the rationale is. ... Eventually you run out of other people’s money,” he said. Meadows was among Republicans who voted in late December for their party’s debt-financed tax overhaul, which is expected to balloon the federal budget deficit and add about $1.5 trillion over 10 years to the $20 trillion national debt. “It’s interesting to hear Mark talk about fiscal responsibility,” Democratic U.S. Representative Joseph Crowley said on CBS. Crowley said the Republican tax bill would require the  United States to borrow $1.5 trillion, to be paid off by future generations, to finance tax cuts for corporations and the rich. “This is one of the least ... fiscally responsible bills we’ve ever seen passed in the history of the House of Representatives. I think we’re going to be paying for this for many, many years to come,” Crowley said. Republicans insist the tax package, the biggest U.S. tax overhaul in more than 30 years,  will boost the economy and job growth. House Speaker Paul Ryan, who also supported the tax bill, recently went further than Meadows, making clear in a radio interview that welfare or “entitlement reform,” as the party often calls it, would be a top Republican priority in 2018. In Republican parlance, “entitlement” programs mean food stamps, housing assistance, Medicare and Medicaid health insurance for the elderly, poor and disabled, as well as other programs created by Washington to assist the needy. Democrats seized on Ryan’s early December remarks, saying they showed Republicans would try to pay for their tax overhaul by seeking spending cuts for social programs. But the goals of House Republicans may have to take a back seat to the Senate, where the votes of some Democrats will be needed to approve a budget and prevent a government shutdown. Democrats will use their leverage in the Senate, which Republicans narrowly control, to defend both discretionary non-defense programs and social spending, while tackling the issue of the “Dreamers,” people brought illegally to the country as children. Trump in September put a March 2018 expiration date on the Deferred Action for Childhood Arrivals, or DACA, program, which protects the young immigrants from deportation and provides them with work permits. The president has said in recent Twitter messages he wants funding for his proposed Mexican border wall and other immigration law changes in exchange for agreeing to help the Dreamers. Representative Debbie Dingell told CBS she did not favor linking that issue to other policy objectives, such as wall funding. “We need to do DACA clean,” she said.  On Wednesday, Trump aides will meet with congressional leaders to discuss those issues. That will be followed by a weekend of strategy sessions for Trump and Republican leaders on Jan. 6 and 7, the White House said. Trump was also scheduled to meet on Sunday with Florida Republican Governor Rick Scott, who wants more emergency aid. The House has passed an $81 billion aid package after hurricanes in Florida, Texas and Puerto Rico, and wildfires in California. The package far exceeded the $44 billion requested by the Trump administration. The Senate has not yet voted on the aid. | politicsNews | December 31, 2017 |\n",
       "\n"
      ],
      "text/plain": [
       "  title                                                           \n",
       "1 As U.S. budget fight looms, Republicans flip their fiscal script\n",
       "  text                                                                                                                                                                                                                                                                                                                                                                                                                                                                                                                                                                                                                                                                                                                                                                                                                                                                                                                                                                                                                                                                                                                                                                                                                                                                                                                                                                                                                                                                                                                                                                                                                                                                                                                                                                                                                                                                                                                                                                                                                                                                                                                                                                                                                                                                                                                                                                                                                                                                                                                                                                                                                                                                                                                                                                                                                                                                                                                                                                                                                                                                                                                                                                                                                                                                                                                                                                                                                                                                                                                                                                                                                                                                                                                                                                                                                                                                                                                                                                                                                                                                                                                                                                                                                                                                                                                                                                                                                                                                                                                                                                                                                                                                                                                                                                                                                                              \n",
       "1 WASHINGTON (Reuters) - The head of a conservative Republican faction in the U.S. Congress, who voted this month for a huge expansion of the national debt to pay for tax cuts, called himself a “fiscal conservative” on Sunday and urged budget restraint in 2018. In keeping with a sharp pivot under way among Republicans, U.S. Representative Mark Meadows, speaking on CBS’ “Face the Nation,” drew a hard line on federal spending, which lawmakers are bracing to do battle over in January. When they return from the holidays on Wednesday, lawmakers will begin trying to pass a federal budget in a fight likely to be linked to other issues, such as immigration policy, even as the November congressional election campaigns approach in which Republicans will seek to keep control of Congress. President Donald Trump and his Republicans want a big budget increase in military spending, while Democrats also want proportional increases for non-defense “discretionary” spending on programs that support education, scientific research, infrastructure, public health and environmental protection. “The (Trump) administration has already been willing to say: ‘We’re going to increase non-defense discretionary spending ... by about 7 percent,’” Meadows, chairman of the small but influential House Freedom Caucus, said on the program. “Now, Democrats are saying that’s not enough, we need to give the government a pay raise of 10 to 11 percent. For a fiscal conservative, I don’t see where the rationale is. ... Eventually you run out of other people’s money,” he said. Meadows was among Republicans who voted in late December for their party’s debt-financed tax overhaul, which is expected to balloon the federal budget deficit and add about $1.5 trillion over 10 years to the $20 trillion national debt. “It’s interesting to hear Mark talk about fiscal responsibility,” Democratic U.S. Representative Joseph Crowley said on CBS. Crowley said the Republican tax bill would require the  United States to borrow $1.5 trillion, to be paid off by future generations, to finance tax cuts for corporations and the rich. “This is one of the least ... fiscally responsible bills we’ve ever seen passed in the history of the House of Representatives. I think we’re going to be paying for this for many, many years to come,” Crowley said. Republicans insist the tax package, the biggest U.S. tax overhaul in more than 30 years,  will boost the economy and job growth. House Speaker Paul Ryan, who also supported the tax bill, recently went further than Meadows, making clear in a radio interview that welfare or “entitlement reform,” as the party often calls it, would be a top Republican priority in 2018. In Republican parlance, “entitlement” programs mean food stamps, housing assistance, Medicare and Medicaid health insurance for the elderly, poor and disabled, as well as other programs created by Washington to assist the needy. Democrats seized on Ryan’s early December remarks, saying they showed Republicans would try to pay for their tax overhaul by seeking spending cuts for social programs. But the goals of House Republicans may have to take a back seat to the Senate, where the votes of some Democrats will be needed to approve a budget and prevent a government shutdown. Democrats will use their leverage in the Senate, which Republicans narrowly control, to defend both discretionary non-defense programs and social spending, while tackling the issue of the “Dreamers,” people brought illegally to the country as children. Trump in September put a March 2018 expiration date on the Deferred Action for Childhood Arrivals, or DACA, program, which protects the young immigrants from deportation and provides them with work permits. The president has said in recent Twitter messages he wants funding for his proposed Mexican border wall and other immigration law changes in exchange for agreeing to help the Dreamers. Representative Debbie Dingell told CBS she did not favor linking that issue to other policy objectives, such as wall funding. “We need to do DACA clean,” she said.  On Wednesday, Trump aides will meet with congressional leaders to discuss those issues. That will be followed by a weekend of strategy sessions for Trump and Republican leaders on Jan. 6 and 7, the White House said. Trump was also scheduled to meet on Sunday with Florida Republican Governor Rick Scott, who wants more emergency aid. The House has passed an $81 billion aid package after hurricanes in Florida, Texas and Puerto Rico, and wildfires in California. The package far exceeded the $44 billion requested by the Trump administration. The Senate has not yet voted on the aid.\n",
       "  subject      date             \n",
       "1 politicsNews December 31, 2017"
      ]
     },
     "metadata": {},
     "output_type": "display_data"
    }
   ],
   "source": [
    "head(fake,1)\n",
    "head(true,1)"
   ]
  },
  {
   "cell_type": "markdown",
   "metadata": {
    "_cell_guid": "1c99611a-aa9c-4f4a-be90-1d8f76049509",
    "_uuid": "958ee69d-b13a-47c4-b802-f4ffc818ea18"
   },
   "source": [
    "# Data Decription and Data Cleaning"
   ]
  },
  {
   "cell_type": "markdown",
   "metadata": {
    "_cell_guid": "13d86515-9800-4f33-a520-eb1b0f45bbc6",
    "_uuid": "70c2fe2c-38cb-4688-86e2-b81148d77026"
   },
   "source": [
    "### The data required for this project is present in two datafiles of csv format. The files are namely true.csv and fake.csv. The true.csv files contains news that are true and similarly for Fake.csv which contains fake news."
   ]
  },
  {
   "cell_type": "markdown",
   "metadata": {
    "_cell_guid": "f88fc09a-2097-42ad-841f-8e90141ee28a",
    "_uuid": "f27b2e71-3d45-4266-8c57-a16979dd8bdb"
   },
   "source": [
    "### Number of columns"
   ]
  },
  {
   "cell_type": "code",
   "execution_count": 4,
   "metadata": {
    "_cell_guid": "f59f529b-5753-4c15-b8d2-ec33607383f6",
    "_kg_hide-input": true,
    "_uuid": "c4656003-125b-4950-a693-8d14a53c1d3d"
   },
   "outputs": [
    {
     "name": "stdout",
     "output_type": "stream",
     "text": [
      "[1] \"The number of columns in true.csv\"\n"
     ]
    },
    {
     "data": {
      "text/html": [
       "<style>\n",
       ".list-inline {list-style: none; margin:0; padding: 0}\n",
       ".list-inline>li {display: inline-block}\n",
       ".list-inline>li:not(:last-child)::after {content: \"\\00b7\"; padding: 0 .5ex}\n",
       "</style>\n",
       "<ol class=list-inline><li>21417</li><li>4</li></ol>\n"
      ],
      "text/latex": [
       "\\begin{enumerate*}\n",
       "\\item 21417\n",
       "\\item 4\n",
       "\\end{enumerate*}\n"
      ],
      "text/markdown": [
       "1. 21417\n",
       "2. 4\n",
       "\n",
       "\n"
      ],
      "text/plain": [
       "[1] 21417     4"
      ]
     },
     "metadata": {},
     "output_type": "display_data"
    },
    {
     "name": "stdout",
     "output_type": "stream",
     "text": [
      "[1] \"The number of columns in fake.csv\"\n"
     ]
    },
    {
     "data": {
      "text/html": [
       "<style>\n",
       ".list-inline {list-style: none; margin:0; padding: 0}\n",
       ".list-inline>li {display: inline-block}\n",
       ".list-inline>li:not(:last-child)::after {content: \"\\00b7\"; padding: 0 .5ex}\n",
       "</style>\n",
       "<ol class=list-inline><li>23481</li><li>4</li></ol>\n"
      ],
      "text/latex": [
       "\\begin{enumerate*}\n",
       "\\item 23481\n",
       "\\item 4\n",
       "\\end{enumerate*}\n"
      ],
      "text/markdown": [
       "1. 23481\n",
       "2. 4\n",
       "\n",
       "\n"
      ],
      "text/plain": [
       "[1] 23481     4"
      ]
     },
     "metadata": {},
     "output_type": "display_data"
    }
   ],
   "source": [
    "print(\"The number of columns in true.csv\")\n",
    "dim(true)\n",
    "print(\"The number of columns in fake.csv\")\n",
    "dim(fake)"
   ]
  },
  {
   "cell_type": "code",
   "execution_count": 5,
   "metadata": {
    "_cell_guid": "f7453a8e-1666-45f8-87bc-60764896ea93",
    "_uuid": "e457e058-c714-40f4-9d74-f84cafeacf04"
   },
   "outputs": [
    {
     "data": {
      "image/png": "[encoded data removed]",
      "text/plain": [
       "Plot with title \"Number of rows in each dataset\""
      ]
     },
     "metadata": {
      "image/png": {
       "height": 420,
       "width": 420
      }
     },
     "output_type": "display_data"
    }
   ],
   "source": [
    "barplot(c(nrow(true) , nrow(fake)) , \n",
    "        main=\"Number of rows in each dataset\",\n",
    "        xlab=\"Category\",\n",
    "        ylab=\"Count\",\n",
    "        border=\"red\",\n",
    "        col=\"blue\",\n",
    "       density = 5)"
   ]
  },
  {
   "cell_type": "markdown",
   "metadata": {
    "_cell_guid": "e3521f11-93e0-48d1-a739-c5e3528d086e",
    "_uuid": "eff4dd06-7120-4a9d-9d0d-6a643185e500"
   },
   "source": [
    "## Both the datasets are balanced."
   ]
  },
  {
   "cell_type": "markdown",
   "metadata": {
    "_cell_guid": "6e554369-1fa6-4b99-9507-64943c179a71",
    "_uuid": "10cec426-7f41-4c2f-8681-688d631f6b3f"
   },
   "source": [
    "### Columns datatypes"
   ]
  },
  {
   "cell_type": "code",
   "execution_count": 6,
   "metadata": {
    "_cell_guid": "ffe36ae3-964b-4659-a770-6a1ced55e23c",
    "_uuid": "955ac270-ed1b-4b14-a8af-ab80c39663ce"
   },
   "outputs": [
    {
     "name": "stdout",
     "output_type": "stream",
     "text": [
      "Rows: 21,417\n",
      "Columns: 4\n",
      "$ title   \u001b[3m\u001b[90m<chr>\u001b[39m\u001b[23m \"As U.S. budget fight looms, Republicans flip their fiscal ...\n",
      "$ text    \u001b[3m\u001b[90m<chr>\u001b[39m\u001b[23m \"WASHINGTON (Reuters) - The head of a conservative Republic...\n",
      "$ subject \u001b[3m\u001b[90m<chr>\u001b[39m\u001b[23m \"politicsNews\", \"politicsNews\", \"politicsNews\", \"politicsNe...\n",
      "$ date    \u001b[3m\u001b[90m<chr>\u001b[39m\u001b[23m \"December 31, 2017\", \"December 29, 2017\", \"December 31, 201...\n",
      "Rows: 23,481\n",
      "Columns: 4\n",
      "$ title   \u001b[3m\u001b[90m<chr>\u001b[39m\u001b[23m \"Donald Trump Sends Out Embarrassing New Year’s Eve Message...\n",
      "$ text    \u001b[3m\u001b[90m<chr>\u001b[39m\u001b[23m \"Donald Trump just couldn t wish all Americans a Happy New ...\n",
      "$ subject \u001b[3m\u001b[90m<chr>\u001b[39m\u001b[23m \"News\", \"News\", \"News\", \"News\", \"News\", \"News\", \"News\", \"Ne...\n",
      "$ date    \u001b[3m\u001b[90m<chr>\u001b[39m\u001b[23m \"December 31, 2017\", \"December 31, 2017\", \"December 30, 201...\n"
     ]
    }
   ],
   "source": [
    "glimpse(true)\n",
    "glimpse(fake)"
   ]
  },
  {
   "cell_type": "markdown",
   "metadata": {
    "_cell_guid": "54731919-9156-4a3b-afb5-64841ab537ae",
    "_uuid": "2d1e589b-142d-4318-aafa-839bde40d02a"
   },
   "source": [
    "### Are any NA values present?"
   ]
  },
  {
   "cell_type": "code",
   "execution_count": 7,
   "metadata": {
    "_cell_guid": "3b93d62b-aefa-4bea-ab92-b08f97c8d7ff",
    "_uuid": "56b28888-4e6a-439d-bd3f-9b40891238aa"
   },
   "outputs": [
    {
     "data": {
      "text/html": [
       "1"
      ],
      "text/latex": [
       "1"
      ],
      "text/markdown": [
       "1"
      ],
      "text/plain": [
       "[1] 1"
      ]
     },
     "metadata": {},
     "output_type": "display_data"
    },
    {
     "data": {
      "text/html": [
       "630"
      ],
      "text/latex": [
       "630"
      ],
      "text/markdown": [
       "630"
      ],
      "text/plain": [
       "[1] 630"
      ]
     },
     "metadata": {},
     "output_type": "display_data"
    }
   ],
   "source": [
    "sum(is.na(true))\n",
    "sum(is.na(fake))"
   ]
  },
  {
   "cell_type": "code",
   "execution_count": 8,
   "metadata": {
    "_cell_guid": "479ac260-0df1-4e37-9460-be9916d76fa9",
    "_uuid": "5add6153-88b2-41cc-a1d3-ce24c7313b77"
   },
   "outputs": [
    {
     "data": {
      "text/html": [
       "0.0046691880282019"
      ],
      "text/latex": [
       "0.0046691880282019"
      ],
      "text/markdown": [
       "0.0046691880282019"
      ],
      "text/plain": [
       "[1] 0.004669188"
      ]
     },
     "metadata": {},
     "output_type": "display_data"
    },
    {
     "data": {
      "text/html": [
       "2.68302031429667"
      ],
      "text/latex": [
       "2.68302031429667"
      ],
      "text/markdown": [
       "2.68302031429667"
      ],
      "text/plain": [
       "[1] 2.68302"
      ]
     },
     "metadata": {},
     "output_type": "display_data"
    }
   ],
   "source": [
    "## Percentage of total dataset\n",
    "\n",
    "sum(is.na(true))/nrow(true)*100\n",
    "sum(is.na(fake))/nrow(fake)*100"
   ]
  },
  {
   "cell_type": "markdown",
   "metadata": {
    "_cell_guid": "47b582fe-0272-41c9-8bca-084454c5b317",
    "_uuid": "7ded040f-738b-4b69-9b63-f0d3228c1853"
   },
   "source": [
    "### As we can see that NA values are present and when compared to the total numbers of rows they are only 0.004%  and 2.68% of the total dataset. Instead of predicting them we can just drop them because large amount of data is not lost."
   ]
  },
  {
   "cell_type": "code",
   "execution_count": 9,
   "metadata": {
    "_cell_guid": "e640d49a-077b-42e4-8c21-49d790104eb9",
    "_uuid": "8b338937-a418-4555-804e-1ff1fb968e5a"
   },
   "outputs": [],
   "source": [
    "true <- true %>% drop_na()\n",
    "fake <- fake %>% drop_na()"
   ]
  },
  {
   "cell_type": "code",
   "execution_count": 10,
   "metadata": {
    "_cell_guid": "333ce9e0-507e-405a-a20a-c560b30ee24d",
    "_uuid": "ef003156-9e9f-44b7-8f52-ec7c16482caa"
   },
   "outputs": [
    {
     "data": {
      "text/html": [
       "<style>\n",
       ".list-inline {list-style: none; margin:0; padding: 0}\n",
       ".list-inline>li {display: inline-block}\n",
       ".list-inline>li:not(:last-child)::after {content: \"\\00b7\"; padding: 0 .5ex}\n",
       "</style>\n",
       "<ol class=list-inline><li>21416</li><li>4</li></ol>\n"
      ],
      "text/latex": [
       "\\begin{enumerate*}\n",
       "\\item 21416\n",
       "\\item 4\n",
       "\\end{enumerate*}\n"
      ],
      "text/markdown": [
       "1. 21416\n",
       "2. 4\n",
       "\n",
       "\n"
      ],
      "text/plain": [
       "[1] 21416     4"
      ]
     },
     "metadata": {},
     "output_type": "display_data"
    },
    {
     "data": {
      "text/html": [
       "<style>\n",
       ".list-inline {list-style: none; margin:0; padding: 0}\n",
       ".list-inline>li {display: inline-block}\n",
       ".list-inline>li:not(:last-child)::after {content: \"\\00b7\"; padding: 0 .5ex}\n",
       "</style>\n",
       "<ol class=list-inline><li>22851</li><li>4</li></ol>\n"
      ],
      "text/latex": [
       "\\begin{enumerate*}\n",
       "\\item 22851\n",
       "\\item 4\n",
       "\\end{enumerate*}\n"
      ],
      "text/markdown": [
       "1. 22851\n",
       "2. 4\n",
       "\n",
       "\n"
      ],
      "text/plain": [
       "[1] 22851     4"
      ]
     },
     "metadata": {},
     "output_type": "display_data"
    }
   ],
   "source": [
    "dim(true)\n",
    "dim(fake)"
   ]
  },
  {
   "cell_type": "markdown",
   "metadata": {
    "_cell_guid": "57c2c8f8-97c4-45c5-948f-dc8117e001a3",
    "_uuid": "1344ea47-e0ca-4b19-9077-54b5c44c7614"
   },
   "source": [
    "### Summary of datasets"
   ]
  },
  {
   "cell_type": "code",
   "execution_count": 11,
   "metadata": {
    "_cell_guid": "4e6d3337-4739-4a52-819e-b62e3a4cd0ed",
    "_uuid": "f47cbb3a-e5d4-4de5-8bbf-192af25512e3"
   },
   "outputs": [
    {
     "data": {
      "text/plain": [
       "    title               text             subject              date          \n",
       " Length:22851       Length:22851       Length:22851       Length:22851      \n",
       " Class :character   Class :character   Class :character   Class :character  \n",
       " Mode  :character   Mode  :character   Mode  :character   Mode  :character  "
      ]
     },
     "metadata": {},
     "output_type": "display_data"
    },
    {
     "data": {
      "text/plain": [
       "    title               text             subject              date          \n",
       " Length:21416       Length:21416       Length:21416       Length:21416      \n",
       " Class :character   Class :character   Class :character   Class :character  \n",
       " Mode  :character   Mode  :character   Mode  :character   Mode  :character  "
      ]
     },
     "metadata": {},
     "output_type": "display_data"
    }
   ],
   "source": [
    "summary(fake)\n",
    "summary(true)"
   ]
  },
  {
   "cell_type": "markdown",
   "metadata": {
    "_cell_guid": "458efaba-bb48-48c1-9442-c25cc7b39d85",
    "_uuid": "bd20efbc-7599-46f2-a7c3-cfb57223e308"
   },
   "source": [
    "# Merging datasets for further preprocessing"
   ]
  },
  {
   "cell_type": "code",
   "execution_count": 12,
   "metadata": {
    "_cell_guid": "a74ff81f-9eaf-4f0d-af33-0e8d6cf1ef0c",
    "_uuid": "11fd2e87-398b-49cc-b0e7-278b5e53878f"
   },
   "outputs": [],
   "source": [
    "fake$y <- 0\n",
    "true$y <- 1\n",
    "news <- bind_rows(fake, true)\n",
    "\n",
    "## since the y column is of categorical type and the models will consider it of numerical if we do not convert it to factor.\n",
    "## The same applies for the subject columns\n",
    "news$y <- as.factor(news$y)\n",
    "news$subject <- as.factor(news$subject)"
   ]
  },
  {
   "cell_type": "markdown",
   "metadata": {
    "_cell_guid": "ffe47d5c-445e-4470-b960-0799d49e3b45",
    "_uuid": "0f478a8c-7182-4036-a75a-c71d894ea97e"
   },
   "source": [
    "# Preprocessing"
   ]
  },
  {
   "cell_type": "code",
   "execution_count": 13,
   "metadata": {
    "_cell_guid": "35803cf5-e344-41ed-81c8-139e4edc88c9",
    "_uuid": "225f1169-d527-4355-bae6-4c1ba67f74ca"
   },
   "outputs": [
    {
     "data": {
      "text/html": [
       "<table>\n",
       "<caption>A grouped_df: 8 × 2</caption>\n",
       "<thead>\n",
       "\t<tr><th scope=col>subject</th><th scope=col>n</th></tr>\n",
       "\t<tr><th scope=col>&lt;fct&gt;</th><th scope=col>&lt;int&gt;</th></tr>\n",
       "</thead>\n",
       "<tbody>\n",
       "\t<tr><td>politicsNews   </td><td>11271</td></tr>\n",
       "\t<tr><td>worldnews      </td><td>10145</td></tr>\n",
       "\t<tr><td>News           </td><td> 9050</td></tr>\n",
       "\t<tr><td>politics       </td><td> 6433</td></tr>\n",
       "\t<tr><td>left-news      </td><td> 4309</td></tr>\n",
       "\t<tr><td>Government News</td><td> 1498</td></tr>\n",
       "\t<tr><td>US_News        </td><td>  783</td></tr>\n",
       "\t<tr><td>Middle-east    </td><td>  778</td></tr>\n",
       "</tbody>\n",
       "</table>\n"
      ],
      "text/latex": [
       "A grouped\\_df: 8 × 2\n",
       "\\begin{tabular}{ll}\n",
       " subject & n\\\\\n",
       " <fct> & <int>\\\\\n",
       "\\hline\n",
       "\t politicsNews    & 11271\\\\\n",
       "\t worldnews       & 10145\\\\\n",
       "\t News            &  9050\\\\\n",
       "\t politics        &  6433\\\\\n",
       "\t left-news       &  4309\\\\\n",
       "\t Government News &  1498\\\\\n",
       "\t US\\_News         &   783\\\\\n",
       "\t Middle-east     &   778\\\\\n",
       "\\end{tabular}\n"
      ],
      "text/markdown": [
       "\n",
       "A grouped_df: 8 × 2\n",
       "\n",
       "| subject &lt;fct&gt; | n &lt;int&gt; |\n",
       "|---|---|\n",
       "| politicsNews    | 11271 |\n",
       "| worldnews       | 10145 |\n",
       "| News            |  9050 |\n",
       "| politics        |  6433 |\n",
       "| left-news       |  4309 |\n",
       "| Government News |  1498 |\n",
       "| US_News         |   783 |\n",
       "| Middle-east     |   778 |\n",
       "\n"
      ],
      "text/plain": [
       "  subject         n    \n",
       "1 politicsNews    11271\n",
       "2 worldnews       10145\n",
       "3 News             9050\n",
       "4 politics         6433\n",
       "5 left-news        4309\n",
       "6 Government News  1498\n",
       "7 US_News           783\n",
       "8 Middle-east       778"
      ]
     },
     "metadata": {},
     "output_type": "display_data"
    }
   ],
   "source": [
    "# News count by each Subject\n",
    "news %>% group_by(subject) %>% count() %>% arrange(desc(n))"
   ]
  },
  {
   "cell_type": "code",
   "execution_count": 14,
   "metadata": {
    "_cell_guid": "b67151a2-7b10-4435-ad7b-6e656e906686",
    "_uuid": "6a78933c-88cd-44ed-b314-62b5fcf3a06c"
   },
   "outputs": [
    {
     "data": {
      "image/png": "[encoded data removed]",
      "text/plain": [
       "plot without title"
      ]
     },
     "metadata": {
      "image/png": {
       "height": 420,
       "width": 420
      }
     },
     "output_type": "display_data"
    }
   ],
   "source": [
    "news %>%\n",
    "  group_by(subject) %>%\n",
    "  count(sort = TRUE) %>%\n",
    "  rename(freq = n) %>%\n",
    "  ggplot(aes(x = reorder(subject, -freq), y = freq)) + \n",
    "  geom_bar(stat = 'identity', fill = 'skyblue') +\n",
    "  theme_classic() +\n",
    "  xlab('Subject') +\n",
    "  ylab('frequency') +\n",
    "  geom_text(aes(label = freq), vjust = 1.2, fontface = 'bold') +\n",
    "  theme(axis.title = element_text(face = 'bold', size = 15),\n",
    "        axis.text = element_text(size = 13, angle = 90))"
   ]
  },
  {
   "cell_type": "code",
   "execution_count": 15,
   "metadata": {
    "_cell_guid": "a71d85bd-173a-4c31-9d30-c810a134eab0",
    "_uuid": "323f39b0-d4f3-4436-a103-902c9a987ad7"
   },
   "outputs": [
    {
     "data": {
      "image/png": "[encoded data removed]",
      "text/plain": [
       "plot without title"
      ]
     },
     "metadata": {
      "image/png": {
       "height": 420,
       "width": 420
      }
     },
     "output_type": "display_data"
    }
   ],
   "source": [
    "## Categoty wise news subject plot\n",
    "\n",
    "ggplot(news, aes(x = subject , fill = y)) +\n",
    "  geom_bar(position = 'dodge', alpha = 0.6) +\n",
    "  theme_classic() +\n",
    "  theme(axis.title = element_text(face = 'bold', size = 15),\n",
    "        axis.text = element_text(size = 13, angle = 90))"
   ]
  },
  {
   "cell_type": "markdown",
   "metadata": {
    "_cell_guid": "24c786b2-1321-4432-80e3-e18800539679",
    "_uuid": "5e30d1e4-c17d-4207-a1fa-7abaac1709f7"
   },
   "source": [
    "## A news article is the combination of its heading and the text written below the heading. So we merge the title and text column into one. Reducing the dimension of the dataset. \n",
    "\n",
    "## We can also see that the subject column is biased in nature and will lead to decreased accuracy. So we drop that column"
   ]
  },
  {
   "cell_type": "code",
   "execution_count": 16,
   "metadata": {
    "_cell_guid": "93a2f2dc-cf8a-4851-b581-fc6d44c45204",
    "_uuid": "2b9411bb-152f-442b-8202-9cee10f8fe4b"
   },
   "outputs": [
    {
     "name": "stdout",
     "output_type": "stream",
     "text": [
      "Rows: 44,267\n",
      "Columns: 2\n",
      "$ text \u001b[3m\u001b[90m<chr>\u001b[39m\u001b[23m \"Donald Trump Sends Out Embarrassing New Year’s Eve Message; T...\n",
      "$ y    \u001b[3m\u001b[90m<fct>\u001b[39m\u001b[23m 0, 0, 0, 0, 0, 0, 0, 0, 0, 0, 0, 0, 0, 0, 0, 0, 0, 0, 0, 0, 0,...\n"
     ]
    }
   ],
   "source": [
    "y = news$y\n",
    "news$text <- paste(news$title , news$text , sep = ' ')\n",
    "news <- cbind(news[\"text\"] , y)\n",
    "glimpse(news)"
   ]
  },
  {
   "cell_type": "markdown",
   "metadata": {
    "_cell_guid": "37596506-991a-4afb-a2b4-33499991d4ce",
    "_uuid": "9dd72834-0d63-4900-a099-010d1f6372e7"
   },
   "source": [
    "# N-Gram Analysis"
   ]
  },
  {
   "cell_type": "markdown",
   "metadata": {
    "_cell_guid": "7cb98c33-c2a7-4157-ba9a-1350aa54216f",
    "_uuid": "53f894d4-b953-4ac9-837f-dc1da660baf4"
   },
   "source": [
    "## Uni Gram Analysis"
   ]
  },
  {
   "cell_type": "code",
   "execution_count": null,
   "metadata": {
    "_cell_guid": "b2dc1ba9-7f67-4f07-b2ee-25fff22977a3",
    "_uuid": "95f13f88-b03b-4ca4-8add-60cc854961d0"
   },
   "outputs": [
    {
     "name": "stderr",
     "output_type": "stream",
     "text": [
      "Joining, by = \"word\"\n",
      "\n"
     ]
    }
   ],
   "source": [
    "tokeniztion_df <- news %>% unnest_tokens(word, text)\n",
    "tokeniztion_df <- tokeniztion_df %>% anti_join(stop_words)"
   ]
  },
  {
   "cell_type": "code",
   "execution_count": null,
   "metadata": {
    "_cell_guid": "194af142-e2d8-45e5-a0d2-f646475cbb01",
    "_uuid": "7292e62b-9ab2-4df4-9139-5b99c9a146f8"
   },
   "outputs": [],
   "source": [
    "tokeniztion_df %>% count(word, sort = TRUE) %>% filter(n > 25000) %>% mutate(word = reorder(word, n)) %>%\n",
    "  ggplot(aes(n, word)) +\n",
    "  geom_col() +\n",
    "  labs(y = NULL)"
   ]
  },
  {
   "cell_type": "code",
   "execution_count": null,
   "metadata": {},
   "outputs": [],
   "source": [
    "#Unigram - Fake_News\n",
    "tokeniztion_df_fake <- fake_news %>% unnest_tokens(word, text)\n",
    "tokeniztion_df_fake <- tokeniztion_df_fake %>% anti_join(stop_words)\n",
    "tokeniztion_df_fake %>% count(word, sort = TRUE) %>% filter(n > 10000) %>% mutate(word = reorder(word, n)) %>%\n",
    "  ggplot(aes(n, word , fill = n)) +\n",
    "  geom_col() +\n",
    "  labs(y = NULL) +\n",
    "  theme_minimal()"
   ]
  },
  {
   "cell_type": "code",
   "execution_count": null,
   "metadata": {},
   "outputs": [],
   "source": [
    "#Unigram - True_News\n",
    "tokeniztion_df_true <- true_news %>% unnest_tokens(word, text)\n",
    "tokeniztion_df_true <- tokeniztion_df_true %>% anti_join(stop_words)\n",
    "tokeniztion_df_true %>% count(word, sort = TRUE) %>% filter(n > 10000) %>% mutate(word = reorder(word, n)) %>%\n",
    "  ggplot(aes(n, word,fill = n)) +\n",
    "  geom_col() +\n",
    "  labs(y = NULL)+\n",
    "  theme_minimal()"
   ]
  },
  {
   "cell_type": "markdown",
   "metadata": {
    "_cell_guid": "83757fed-3f09-4af9-942b-ad21f1db701b",
    "_uuid": "d7ba1f9c-2da5-4c1d-a774-d6dfb193a9bc"
   },
   "source": [
    "## Bi Gram Analysis"
   ]
  },
  {
   "cell_type": "code",
   "execution_count": null,
   "metadata": {
    "_cell_guid": "a494964c-e4d5-49e0-b4dd-d6f0b2ba05bf",
    "_uuid": "3e37bc50-8ac8-4a34-ac1a-a5879a57afde"
   },
   "outputs": [],
   "source": [
    "fake_news <- news%>%filter(y == 0)\n",
    "true_news <- news%>%filter(y == 1)"
   ]
  },
  {
   "cell_type": "code",
   "execution_count": null,
   "metadata": {
    "_cell_guid": "5abf6a4a-4a59-4feb-8cd8-617acf6ae4a6",
    "_uuid": "72c95ee2-3889-44b5-9324-3ff62ac155ab"
   },
   "outputs": [],
   "source": [
    "df_bigrams <-  fake_news %>% unnest_tokens(bigram, text, token = \"ngrams\", n = 2)\n",
    "bigrams_separated <- df_bigrams %>% separate(bigram, c(\"word1\", \"word2\"), sep = \" \") %>% filter(!word1 %in% stop_words$word) %>% filter(!word2 %in% stop_words$word)\n",
    "bigram_counts <- bigrams_separated %>%  count(word1, word2, sort = TRUE)\n",
    "bigram_graph <- bigram_counts %>% filter(n > 1000) %>% graph_from_data_frame()\n",
    "set.seed(2017)\n",
    "ggraph(bigram_graph, layout = \"fr\") +\n",
    "  geom_edge_link() +\n",
    "  geom_node_point() +\n",
    "  geom_node_text(aes(label = name), vjust = 1, hjust = 1)"
   ]
  },
  {
   "cell_type": "code",
   "execution_count": null,
   "metadata": {
    "_cell_guid": "c6ee2a35-a528-4f66-8f54-72a13467060a",
    "_uuid": "908d5c99-e13b-4a3f-b131-4fab35b3f838"
   },
   "outputs": [],
   "source": [
    "fak_bigram <- data.frame(word <- paste(bigram_counts$word1 , bigram_counts$word2 , sep = \" \"))\n",
    "fak_bigram$n <- bigram_counts$n\n",
    "fak_bigram <- fak_bigram %>% filter(n > 1000)\n",
    "names(fak_bigram) <- c(\"word\" , \"n\")"
   ]
  },
  {
   "cell_type": "code",
   "execution_count": null,
   "metadata": {
    "_cell_guid": "250e3400-c2e2-4ad4-8d82-256bae3886a1",
    "_uuid": "b58693e0-8d7f-4ec8-8629-d66e7c19c6eb"
   },
   "outputs": [],
   "source": [
    "fak_bigram %>% arrange(desc(n)) %>% mutate(word = reorder(word, n)) %>%\n",
    "  ggplot(aes(n, word,fill = n)) +\n",
    "  geom_col() +\n",
    "  labs(y = NULL) + \n",
    "  theme_minimal()"
   ]
  },
  {
   "cell_type": "code",
   "execution_count": null,
   "metadata": {
    "_cell_guid": "21fb9d42-3506-4316-922b-47b4caabff3d",
    "_uuid": "8f9886a9-8ec6-4f1e-9e3a-777d5aa6936b"
   },
   "outputs": [],
   "source": [
    "tdf_bigrams <-  true_news %>% unnest_tokens(bigram, text, token = \"ngrams\", n = 2)\n",
    "tbigrams_separated <- tdf_bigrams %>% separate(bigram, c(\"word1\", \"word2\"), sep = \" \") %>% filter(!word1 %in% stop_words$word) %>% filter(!word2 %in% stop_words$word)\n",
    "tbigram_counts <- tbigrams_separated %>%  count(word1, word2, sort = TRUE)\n",
    "tbigram_graph <- tbigram_counts %>% filter(n > 1000) %>% graph_from_data_frame()\n",
    "set.seed(2017)\n",
    "ggraph(tbigram_graph, layout = \"fr\") +\n",
    "  geom_edge_link() +\n",
    "  geom_node_point() +\n",
    "  geom_node_text(aes(label = name), vjust = 1, hjust = 1)"
   ]
  },
  {
   "cell_type": "code",
   "execution_count": null,
   "metadata": {
    "_cell_guid": "54670ee0-ced0-41cd-8e90-f2eb95ca782c",
    "_uuid": "9649d722-9496-49af-9cb8-baf44e47707a"
   },
   "outputs": [],
   "source": [
    "tru_bigram <- data.frame(paste(tbigram_counts$word1 , tbigram_counts$word2 , sep = \" \"))\n",
    "tru_bigram$n <- tbigram_counts$n\n",
    "ttru_bigram <- tru_bigram %>% filter(n > 1200)\n",
    "names(ttru_bigram) <- c(\"word\" , \"n\")"
   ]
  },
  {
   "cell_type": "code",
   "execution_count": null,
   "metadata": {
    "_cell_guid": "e84cf665-ee95-4cb2-b343-8487081e1d11",
    "_uuid": "df268a5b-d1cb-406e-9f95-bca73bc3ea45"
   },
   "outputs": [],
   "source": [
    "ttru_bigram %>% arrange(desc(n)) %>% mutate(word = reorder(word, n)) %>%\n",
    "  ggplot(aes(n, word , fill = n)) +\n",
    "  geom_col() +\n",
    "  labs(y = NULL) + \n",
    "  theme_minimal()"
   ]
  },
  {
   "cell_type": "markdown",
   "metadata": {
    "_cell_guid": "200bba10-941c-4ce0-909b-8e89f9561be0",
    "_uuid": "a06a02e3-e982-4384-9e2f-0b5740049ef6"
   },
   "source": [
    "## We implement various test preprocessing technique\n",
    "\n",
    "* to lowercase\n",
    "* remove numbers\n",
    "* remove punctutaions\n",
    "* remove stopwords \n",
    "* remove whitespaces\n",
    "* Lemmatization\n",
    "* Tokenization"
   ]
  },
  {
   "cell_type": "code",
   "execution_count": null,
   "metadata": {},
   "outputs": [],
   "source": [
    "library(readr)\n",
    "library(dplyr)\n",
    "library(stringr)\n",
    "library(ggplot2)\n",
    "library(tidyr)\n",
    "library(tm)\n",
    "library(textstem) \n",
    "library(tidytext)\n",
    "library(wordcloud2)\n",
    "library(pROC)\n",
    "library(ROCR)\n",
    "library(randomForest)  \n",
    "library(naivebayes)\n",
    "library(caret)\n",
    "library(janeaustenr)\n",
    "library(igraph)\n",
    "library(ggraph)\n",
    "\n",
    "## Importing data\n",
    "fake <- read_csv('../input/fake-and-real-news-dataset/Fake.csv')\n",
    "true <- read_csv('../input/fake-and-real-news-dataset/True.csv')\n",
    "##Dropping NA rows\n",
    "true_news <- true_news %>% drop_na()\n",
    "fake_news <- fake_news %>% drop_na()\n",
    "## Merging Datasets\n",
    "fake_news$type <- 0\n",
    "true_news$type <- 1\n",
    "news <- bind_rows(fake_news, true_news)\n",
    "news$type <- as.factor(news$type)\n",
    "type = news$type\n",
    "news$text <- paste(news$title , news$text , sep = ' ')\n",
    "news <- cbind(news[\"text\"] , type)\n",
    "data <- news"
   ]
  },
  {
   "cell_type": "code",
   "execution_count": null,
   "metadata": {},
   "outputs": [],
   "source": [
    "data <- news[sample(nrow(data)),]"
   ]
  },
  {
   "cell_type": "code",
   "execution_count": null,
   "metadata": {},
   "outputs": [],
   "source": [
    "  ##Preprocessing\n",
    "  doc <- VCorpus(VectorSource(data$text))\n",
    "  doc <- tm_map(doc, removePunctuation)\n",
    "  doc <- tm_map(doc, removeNumbers)\n",
    "  doc <- tm_map(doc, content_transformer(tolower))\n",
    "  doc <- tm_map(doc, removeWords, stopwords(\"english\"))\n",
    "  doc <- tm_map(doc, stripWhitespace)\n",
    "  doc <- tm_map(doc, content_transformer(lemmatize_strings))"
   ]
  },
  {
   "cell_type": "code",
   "execution_count": null,
   "metadata": {},
   "outputs": [],
   "source": [
    "  ## Data Preparation\n",
    "  dtm <- DocumentTermMatrix(doc)\n",
    "  dtm_clean <- removeSparseTerms(dtm, sparse = 0.99)\n",
    "  dtm_mat <- as.matrix(dtm_clean)\n",
    "  y_prediction = data$type\n",
    "  dtm_mat <- cbind(dtm_mat,y_prediction)\n",
    "  dtm_df <- as.data.frame(dtm_mat)"
   ]
  },
  {
   "cell_type": "code",
   "execution_count": null,
   "metadata": {},
   "outputs": [],
   "source": [
    " summary(dtm_df$y_prediction)"
   ]
  },
  {
   "cell_type": "code",
   "execution_count": null,
   "metadata": {},
   "outputs": [],
   "source": [
    " dtm_df$y_prediction <- ifelse(dtm_df$y_prediction == 2, 1, 0)\n",
    " dtm_df$y_prediction <- as.factor(dtm_df$y_prediction)"
   ]
  },
  {
   "cell_type": "code",
   "execution_count": null,
   "metadata": {},
   "outputs": [],
   "source": [
    "  ## Train Test Split\n",
    "  set.seed(2020)\n",
    "  index <- sample(nrow(dtm_df), nrow(dtm_df)*0.8, replace = FALSE)\n",
    "  train_set <- dtm_df[index,]\n",
    "  test_set <- dtm_df[-index,]\n",
    "  names(train_set) <- make.names(names(train_set))\n",
    "  names(test_set) <- make.names(names(test_set))"
   ]
  },
  {
   "cell_type": "code",
   "execution_count": null,
   "metadata": {
    "_cell_guid": "3d460c8d-0d19-4ede-961c-6ac4468abf97",
    "_uuid": "63fe385c-4e96-4722-8188-811ea4339332"
   },
   "outputs": [],
   "source": [
    "  ## Fitting Model\n",
    "  #Random Forest\n",
    "  k <- round(sqrt(ncol(train_set)-1))\n",
    "  clf_rf <- randomForest(formula = y_prediction ~ .,data = train_set,ntree = 5 ,mtry = k,method = 'class')\n",
    "  \n",
    "  #Naive Bayes\n",
    "  clf_nb <- naive_bayes(y_prediction ~ ., data = train_set)"
   ]
  },
  {
   "cell_type": "code",
   "execution_count": null,
   "metadata": {},
   "outputs": [],
   "source": [
    "  ##Meta Classifier Stacking\n",
    "  # Predicted values\n",
    "  train_set$pred_nb <- as.factor(predict(clf_nb, type = 'class'))\n",
    "  train_set$pred_rf <- as.factor(predict(clf_rf, type = 'response'))\n",
    "  \n",
    "  # Predicted Values for test set\n",
    "  test_set$pred_nb <- as.factor(predict(clf_nb, newdata = test_set))\n",
    "  test_set$pred_rf <- as.factor(predict(clf_rf, newdata = test_set, type = 'response'))\n",
    "  \n",
    "  #Stacking\n",
    "  train_set <- train_set[c(\"pred_nb\" , \"pred_rf\" , \"y_prediction\")]\n",
    "  test_set <-  test_set[c(\"pred_nb\" , \"pred_rf\" , \"y_prediction\")]"
   ]
  },
  {
   "cell_type": "code",
   "execution_count": null,
   "metadata": {},
   "outputs": [],
   "source": [
    " ##Logistics Regression\n",
    "  clf_lr <- glm(formula = y_prediction~.,  data = train_set, family=binomial(link=\"logit\"))"
   ]
  },
  {
   "cell_type": "code",
   "execution_count": null,
   "metadata": {},
   "outputs": [],
   "source": [
    "  test_set$pred_lr <- predict(clf_lr, newdata = test_set, type = 'response')\n",
    "  test_set$pred_lr <- ifelse(test_set$pred_lr > 0.5,1,0)\n",
    "  test_set$pred_lr <- as.factor(test_set$pred_lr)"
   ]
  },
  {
   "cell_type": "code",
   "execution_count": null,
   "metadata": {},
   "outputs": [],
   "source": [
    "# Confussion Matrix\n",
    "conf <- confusionMatrix(reference = test_set$y_prediction, data = test_set$pred_lr)\n",
    "conf_nb <- caret::confusionMatrix(test_set$y_prediction, test_set$pred_nb)\n",
    "conf_rf <- caret::confusionMatrix(test_set$y_prediction, test_set$pred_rf)"
   ]
  },
  {
   "cell_type": "code",
   "execution_count": null,
   "metadata": {},
   "outputs": [],
   "source": [
    "draw_confusion_matrix(conf)\n",
    "draw_confusion_matrix(conf_nb)\n",
    "draw_confusion_matrix(conf_rf)"
   ]
  },
  {
   "cell_type": "code",
   "execution_count": null,
   "metadata": {},
   "outputs": [],
   "source": [
    "draw_confusion_matrix <- function(cm) {\n",
    "  \n",
    "  layout(matrix(c(1,1,2)))\n",
    "  par(mar=c(2,2,2,2))\n",
    "  plot(c(100, 345), c(300, 450), type = \"n\", xlab=\"\", ylab=\"\", xaxt='n', yaxt='n')\n",
    "  t <- deparse(substitute(cm))\n",
    "  title(paste0('CONFUSION MATRIX',t,sep = \"  \"), cex.main=2)\n",
    "  \n",
    "  # create the matrix \n",
    "  rect(150, 430, 240, 370, col='#3F97D0')\n",
    "  text(195, 435, 'Class1', cex=1.2)\n",
    "  rect(250, 430, 340, 370, col='#F7AD50')\n",
    "  text(295, 435, 'Class2', cex=1.2)\n",
    "  text(125, 370, 'Predicted', cex=1.3, srt=90, font=2)\n",
    "  text(245, 450, 'Actual', cex=1.3, font=2)\n",
    "  rect(150, 305, 240, 365, col='#F7AD50')\n",
    "  rect(250, 305, 340, 365, col='#3F97D0')\n",
    "  text(140, 400, 'Class1', cex=1.2, srt=90)\n",
    "  text(140, 335, 'Class2', cex=1.2, srt=90)\n",
    "  \n",
    "  # add in the cm results \n",
    "  res <- as.numeric(cm$table)\n",
    "  text(195, 400, res[1], cex=1.6, font=2, col='white')\n",
    "  text(195, 335, res[2], cex=1.6, font=2, col='white')\n",
    "  text(295, 400, res[3], cex=1.6, font=2, col='white')\n",
    "  text(295, 335, res[4], cex=1.6, font=2, col='white')\n",
    "  \n",
    "  # add in the specifics \n",
    "  plot(c(100, 0), c(100, 0), type = \"n\", xlab=\"\", ylab=\"\", main = \"DETAILS\", xaxt='n', yaxt='n')\n",
    "  text(10, 85, names(cm$byClass[1]), cex=1.2, font=2)\n",
    "  text(10, 70, round(as.numeric(cm$byClass[1]), 3), cex=1.2)\n",
    "  text(30, 85, names(cm$byClass[2]), cex=1.2, font=2)\n",
    "  text(30, 70, round(as.numeric(cm$byClass[2]), 3), cex=1.2)\n",
    "  text(50, 85, names(cm$byClass[5]), cex=1.2, font=2)\n",
    "  text(50, 70, round(as.numeric(cm$byClass[5]), 3), cex=1.2)\n",
    "  text(70, 85, names(cm$byClass[6]), cex=1.2, font=2)\n",
    "  text(70, 70, round(as.numeric(cm$byClass[6]), 3), cex=1.2)\n",
    "  text(90, 85, names(cm$byClass[7]), cex=1.2, font=2)\n",
    "  text(90, 70, round(as.numeric(cm$byClass[7]), 3), cex=1.2)\n",
    "  \n",
    "  # add in the accuracy information \n",
    "  text(30, 35, names(cm$overall[1]), cex=1.5, font=2)\n",
    "  text(30, 20, round(as.numeric(cm$overall[1]), 3), cex=1.4)\n",
    "  text(70, 35, names(cm$overall[2]), cex=1.5, font=2)\n",
    "  text(70, 20, round(as.numeric(cm$overall[2]), 3), cex=1.4)\n",
    "}"
   ]
  }
 ],
 "metadata": {
  "kernelspec": {
   "display_name": "R",
   "language": "R",
   "name": "ir"
  },
  "language_info": {
   "codemirror_mode": "r",
   "file_extension": ".r",
   "mimetype": "text/x-r-source",
   "name": "R",
   "pygments_lexer": "r",
   "version": "4.0.3"
  }
 },
 "nbformat": 4,
 "nbformat_minor": 4
}
